{
 "cells": [
  {
   "cell_type": "markdown",
   "id": "72051913",
   "metadata": {},
   "source": [
    "# Chapter 2: Python Programming for Physicists \n",
    "\n",
    "Hello readers, I thought it would be fun to do these exercises are from Mark Newman's \"Computational Physics\" book.\n",
    "\n",
    "Exercises are done by me, Ken Luu."
   ]
  },
  {
   "cell_type": "markdown",
   "id": "95bf41af",
   "metadata": {},
   "source": [
    "**Exercise 2.2: Altitude of a Satellite** \n",
    "\n",
    "A satellite is to be launched into a circular orbit around the Earth so that it orbits the planet every T seconds.\n",
    "The height of the satellite is given by the expression \n",
    "\\begin{align}\n",
    "h = \\left(\\frac{GMT^{2}}{4\\pi^{2}} \\right)^{1/2} - R\n",
    "\\end{align}\n",
    "\n",
    "where *G* is the gravitational constant, *T* is the period, *M* is the Earth's mass, and *R* is the Earth's radius. If you do not know where this expression comes from, start with this:\n",
    "\n",
    "\\begin{align}\n",
    "G\\frac{Mm}{r^{2}} = \\frac{mv^{2}}{r}\n",
    "\\end{align}\n",
    "\n",
    "and recall \n",
    "\n",
    "\\begin{align}\n",
    "v = \\omega r.\n",
    "\\end{align}\n",
    "\n",
    "and $h = r - R_{E}$. Then with some algebra, you get the expression of the height of the satellite.\n",
    "\n",
    "Our task is to enter in a desired value of *T* and to study the altitude."
   ]
  },
  {
   "cell_type": "code",
   "execution_count": 17,
   "id": "8da7407c",
   "metadata": {},
   "outputs": [
    {
     "name": "stdout",
     "output_type": "stream",
     "text": [
      "For a period of 86400 seconds (1440.0 minutes), the alitude is 35855.9102 km.\n",
      "For a period of 86148.0 seconds (1435.8 minutes), the alitude is 35773.7623 km.\n",
      "For a period of 5400 seconds (90.0 minutes), the alitude is 279.3216 km.\n",
      "For a period of 2700 seconds (45.0 minutes), the alitude is -2181.5599 km.\n",
      "\n",
      "The difference between 24 hr and 24.93 hr is: 82.148 km\n"
     ]
    }
   ],
   "source": [
    "import numpy as np\n",
    "\n",
    "G = 6.67e-11 #m^3*kg^-1*s^-2\n",
    "M = 5.97e24 #kg\n",
    "R = 6371 #km\n",
    "\n",
    "pi = np.pi\n",
    "\n",
    "R = R *1000 #meters\n",
    "\n",
    "Tday = 24*60*60 #1 day\n",
    "TdayGeo = 23.93*60*60 # geosychronous orbit is 23.93 day\n",
    "T90min = 90*60\n",
    "T45min = 45*60\n",
    "\n",
    "holdHeights = []\n",
    "\n",
    "periods = [Tday,TdayGeo,T90min,T45min]\n",
    "\n",
    "for T in periods:\n",
    "    h = ( (G*M*(T**2))/(4*pi**2) )**(1/3) - R\n",
    "    \n",
    "    holdHeights.append(h)\n",
    "\n",
    "    print(f\"For a period of {T} seconds ({T/60} minutes), the alitude is {round(h/1000,4)} km.\")\n",
    "\n",
    "print('')\n",
    "print(\"The difference between 24 hr and 24.93 hr is:\", round((holdHeights[0]-holdHeights[1])/1000,3), \"km\")\n",
    "\n"
   ]
  },
  {
   "cell_type": "markdown",
   "id": "f2e7f2ea",
   "metadata": {},
   "source": [
    "We see that an orbit of 45 minutes cannot happen. "
   ]
  },
  {
   "cell_type": "markdown",
   "id": "a58ed920",
   "metadata": {},
   "source": [
    "A geosynchronous orbit (a high Earth Orbit) is one that orbits the Earth once per sidereal day, which is roughly 24.93 hours. A sidereal day is the time it takes for the Earth to rotate about its axis so that the distant stars appear in the same position in the sky. A solar day is the time it takes for the Earth to rotate about its axis so that the Sun appears in the same position in the sky. The sidereal day is about 4 minutes shorter than the solar day (see source for more info: [link](https://astronomy.swin.edu.au/cosmos/s/Sidereal+Day)). Also, read [geosynchronous](https://www.space.com/29222-geosynchronous-orbit.html) for more details on geosynchronous orbits."
   ]
  },
  {
   "cell_type": "markdown",
   "id": "9cca8f0b",
   "metadata": {},
   "source": [
    "**Exercise 2.4: Special Relativity**\n",
    "\n",
    "A spaceship travels from Earth is a straight line at a relativistic speed $v$ to another planet $x$ light years away. Write a program to ask the user for the value of $x$ and the speed $v$ as a fraction of the speed of light $c$, then print out the time in years that the spaceship takes to reach its desination (a) in the rest frame of an observer on Earth and (b) as perceived by a passenger on board the ship. \n",
    "\n",
    "Okay, things are getting special, get it? I will not dive in the details of the special theory of relatity and will simply write out the needed equations\n",
    "\n",
    "\\begin{align}\n",
    "\\gamma = \\frac{1}{\\sqrt{1-v^{2}/c^{2}}}\n",
    "\\end{align}\n",
    "\n",
    "*Moving clocks run slow*\n",
    "\n",
    "\\begin{align}\n",
    "t_0 = \\frac{t}{\\gamma} \n",
    "\\end{align}"
   ]
  },
  {
   "cell_type": "code",
   "execution_count": 12,
   "id": "28c8b8ff",
   "metadata": {},
   "outputs": [
    {
     "name": "stdout",
     "output_type": "stream",
     "text": [
      "The time elapsed from the observer on earth: 10.101 years\n",
      " \n",
      "The time elapsed from the observer on the spaceship is: 1.425 years\n",
      " \n",
      "Gamma factor is: 7.089\n"
     ]
    }
   ],
   "source": [
    "import numpy as np\n",
    "\n",
    "\n",
    "v = 0.99 # This is insanely fast\n",
    "x = 10 \n",
    "\n",
    "t = x/v\n",
    "\n",
    "y = 1.0/np.sqrt(1-(v**2))\n",
    "\n",
    "t0 = np.sqrt(1-(v**2))*t\n",
    "print(f\"The time elapsed from the observer on earth: {round(t,3)} years\")\n",
    "print(\" \")\n",
    "print(f\"The time elapsed from the observer on the spaceship is: {round(t0,3)} years\")\n",
    "print(\" \")\n",
    "print(f\"Gamma factor is: {round(y,3)}\")\n"
   ]
  },
  {
   "cell_type": "markdown",
   "id": "23726a39",
   "metadata": {},
   "source": [
    "**Exercise 2.6: Planetary Orbits**\n",
    "\n",
    "The orbit in space of one body around another are often not circular. In general, it takes the form of an ellipse, with the body sometimes closer in and sometimes further out. Given a distance $l_{1}$ of closest approach that a planet makes to the Sun (known as the $perihelion$, and its linear velocity $v_{1}$ at perihelion, then any other property of the orbit can be calculated from these two.\n",
    "\n",
    "a) Kepler's second law says that the distance $l_2$ and velocity $v_2$ of the planet at its most distance point ($aphelion$), satisfies the relation $l_{2}v_{2} = l_{1}v_{1}$. At the same time the total energy of a planet with velocity $v$ and distance $r$ from the Sun is given by \n",
    "\n",
    "\\begin{align}\n",
    "E = \\frac{1}{2}mv^2 - G\\frac{Mm}{r}\n",
    "\\end{align} \n",
    "\n",
    "$m$ is planet's mass, $M = 1.9891x10^{30}$ kg is the mass of the Sun, $G = 6.67 x 10^{-11} m^{3}kg^{-1}s^{-2}$. \n",
    "\n",
    "Given that \n",
    "\\begin{align}\n",
    "v_{2}^{2} - \\frac{2GM}{v_{1}l_{1}}v_{2} - \\left[v_{1}^{2} - \\frac{2GM}{l_{1}} \\right] = 0,\n",
    "\\end{align}\n",
    "\n",
    "show that $v_2$ is the smaller root of the quadratic equation. Once we have $v_2$ we can calculate other quanitities. \n",
    "\n",
    "\n",
    "b) Given $v_{1}, l_{1}, \\ \\rm{and} \\ l_{2}$ we can get the quantities: \n",
    "\n",
    "\\begin{align}\n",
    "\\begin{split}\n",
    "a &= \\frac{1}{2}(l_{1}+l_{2})\n",
    "\\\\\n",
    "b &= \\sqrt{l_{1}l_{2}}\n",
    "\\\\\n",
    "T &= \\frac{2\\pi ab}{l_{1}v_{1}}\n",
    "\\\\\n",
    "\\epsilon &= \\frac{l_{2}-l_{1}}{l_{2}+l_{1}}\n",
    "\\end{split}\n",
    "\\end{align}\n",
    "\n",
    "c) Test the program by calculating properties of the Earth ($l_{1} = 1.4710 x 10^{11}$ m and $v_{1} = 3.0287 x 10^{4}$ m/s) and Halley's comet ($l_{1} = 8.7830 x 10^{10}$ m and $v_{1} = 5.4529 x 10^{4}$ m/s)."
   ]
  },
  {
   "cell_type": "markdown",
   "id": "550c202b",
   "metadata": {},
   "source": [
    "Part (a) is straight-forward. Doing the algebra, one should arrive at: \n",
    "\n",
    "\\begin{align}\n",
    "v_{2} = \\frac{GM}{v_{1}l_{1}} \\pm \\left[\\left(\\frac{GM}{v_{1}l_{1}}\\right)^{2} + \\left(v_{1}^{2}-\\frac{2GM}{l_{1}}\\right) \\right]^{1/2}\n",
    "\\end{align}\n",
    "\n",
    "Sweet! Now we can use this to do calculations."
   ]
  },
  {
   "cell_type": "code",
   "execution_count": 104,
   "id": "c990ff8c",
   "metadata": {
    "scrolled": true
   },
   "outputs": [
    {
     "name": "stdout",
     "output_type": "stream",
     "text": [
      "The orbital period of Earth is: 0.9677 year\n",
      "The eccentricity of Earth is: -6.223843261386815e-16\n",
      "The orbital period of Halley is: 76.0817 year\n",
      "The eccentricity of Halley is: 0.9672889126454061\n"
     ]
    }
   ],
   "source": [
    "import numpy as np\n",
    "\n",
    "v1 = np.array([3.0287e4,5.4529e4])\n",
    "l1 = np.array([1.4710e11,8.7830e10])\n",
    "\n",
    "pi = np.pi\n",
    "G = 6.6738e-11\n",
    "M = 1.9891e30\n",
    "\n",
    "\n",
    "k1 = (G*M)/(v1*l1)\n",
    "k2 = (v1**2 - (2*G*M)/(l1))\n",
    "root = np.sqrt(k1**2 + k2)\n",
    "\n",
    "\n",
    "v2 = np.array([min(k1+root),min(k1-root)])\n",
    "l2 = (v1*l1)/v2\n",
    "\n",
    "sectoyr = 365*24*60*60\n",
    "\n",
    "a = 0.5*(l1+l2)\n",
    "b = np.sqrt(l1*l2)\n",
    "T = (2*pi*a*b)/(l1*v1)\n",
    "ecc = (l2-l1)/(l2+l1)\n",
    "\n",
    "\n",
    "objects = ['Earth','Halley']\n",
    "\n",
    "for i in range(len(v1)):\n",
    "\n",
    "    print(f\"The orbital period of {objects[i]} is: {round(T[i]/sectoyr,4)} year\")\n",
    "    print(f\"The eccentricity of {objects[i]} is: {(ecc[i])}\")\n",
    "    "
   ]
  },
  {
   "cell_type": "markdown",
   "id": "8c0361e8",
   "metadata": {},
   "source": [
    "A quick discussion, why is there a \"min\" function in the v2 array? This is because we want to satisfy\n",
    "\n",
    "\\begin{align}\n",
    "v_{1}l_{1} = v_{2}l_{2}.\n",
    "\\end{align}\n",
    "\n",
    "If we did not add the min function we get something show below"
   ]
  },
  {
   "cell_type": "code",
   "execution_count": 103,
   "id": "6c027441",
   "metadata": {},
   "outputs": [
    {
     "name": "stdout",
     "output_type": "stream",
     "text": [
      "v2 without min function [[30287.         54529.        ]\n",
      " [29305.39917726   906.68069692]]\n",
      "\n",
      "The perihelion relation is: [4.45521770e+15 4.78928207e+15]\n",
      "\n",
      "The aphelion relation is: [[4.45521770e+15 2.88033883e+17]\n",
      " [4.31082422e+15 4.78928207e+15]]\n"
     ]
    }
   ],
   "source": [
    "v2 = np.array([min(k1+root),min(k1-root)])\n",
    "l2 = (v1*l1)/v2\n",
    "\n",
    "v2notmin = np.array([(k1+root),(k1-root)])\n",
    "print(\"v2 without min function\",v2notmin)\n",
    "\n",
    "print(\"\")\n",
    "peri = v1*l1\n",
    "print(\"The perihelion relation is:\",peri)\n",
    "print(\"\")\n",
    "aph = v2notmin*l2\n",
    "print(\"The aphelion relation is:\",aph)\n",
    "\n"
   ]
  },
  {
   "cell_type": "markdown",
   "id": "99d5ae46",
   "metadata": {},
   "source": [
    "You see that the values in the aphelion relation, $v_{2}l_{2}$, is only equal to the perihelion relation, $v_{1}l_{1}$, when the values of $v_{2}$ are the minimum of that set. Only then do we satisfy energy conservation."
   ]
  },
  {
   "cell_type": "markdown",
   "id": "fc90f3d9",
   "metadata": {},
   "source": [
    "**Exerise 2.7: Catalan numbers**\n",
    "\n",
    "The Catalan numbers $C_{n}$ are a sequence of integers: 1, 1, 2, 5, 14, 42, 132... They are given by\n",
    "\n",
    "\\begin{align}\n",
    "C_{0} = 1,\\ C_{n+1} = \\frac{4n+2}{n+2}C_{n}\n",
    "\\end{align}\n",
    "\n",
    "Write a program that prints in increasing order of all Catalan numbers less than or equal to one billion. Then I plotted the growth of the numbers."
   ]
  },
  {
   "cell_type": "code",
   "execution_count": 1,
   "id": "5d155c65",
   "metadata": {
    "scrolled": true
   },
   "outputs": [
    {
     "name": "stdout",
     "output_type": "stream",
     "text": [
      "1\n",
      "1\n",
      "2\n",
      "5\n",
      "14\n",
      "42\n",
      "132\n",
      "429\n",
      "1430\n",
      "4862\n",
      "16796\n",
      "58786\n",
      "208012\n",
      "742900\n",
      "2674440\n",
      "9694845\n",
      "35357670\n",
      "129644790\n",
      "477638700\n",
      "1767263190\n",
      "6564120420\n",
      "24466267020\n",
      "91482563640\n",
      "343059613650\n",
      "1289904147324\n",
      "4861946401452\n",
      "18367353072152\n",
      "69533550916004\n",
      "263747951750360\n",
      "1002242216651368\n",
      "3814986502092304\n",
      "14544636039226908\n",
      "55534064877048200\n",
      "212336130412243136\n",
      "812944042149730944\n",
      "3116285494907301888\n",
      "11959798385860456448\n",
      "45950804324621754368\n",
      "176733862787006758912\n",
      "680425371729976098816\n",
      "2622127042276493361152\n",
      "10113918591637903114240\n",
      "39044429911904466501632\n",
      "150853479205085437231104\n"
     ]
    }
   ],
   "source": [
    "import numpy as np\n",
    "import matplotlib.pyplot as plt\n",
    "\n",
    "\n",
    "def coordinates(num):\n",
    "    \n",
    "    x = num*np.cos(num)\n",
    "    y = num*np.sin(num)\n",
    "    \n",
    "    return (x,y)\n",
    "\n",
    "c0 = 1\n",
    "n = 0\n",
    "c = 1\n",
    "\n",
    "chold = []\n",
    "nhold = []\n",
    "\n",
    "print(c0)\n",
    "\n",
    "\n",
    "while c <= 1e23:\n",
    "    c = int( (4*n+2)/(n+2)*c) \n",
    "    print(c)\n",
    "    n = n+1\n",
    "    \n"
   ]
  },
  {
   "cell_type": "markdown",
   "id": "394471ce",
   "metadata": {},
   "source": [
    "**Exercise 2.9: The Madelung Constant**\n",
    "\n",
    "In condensed matter, the Madelung constant gives the total electric poential felt by an atom in a solid. It depends on the charges on the other atoms nearby and their locations. Here in this exercise, we are taking into consideration the RAREST of element: sodium chloride. Commonly known as table salt. The sodium chloride crystal has atoms arranged on a cubic lattice, but with alternating sodium and chlorine atoms, the sodium ones having a single positive charge $+e$ and the chlorine ones a single negative charge $-e$. We label each position on the lattice by three integer coordinates ($i, j, k$), the sodium atoms fall at positions where $i + j + k$ is even, and the chlorine atoms at positions where $i + j + k$ is odd.\n",
    "\n",
    "In this exercise, we consider a sodium atom at the origin, $i = j = k = 0$, and we will calculate the Madelung constant. If the spacing of atoms on the lattice is $a$, then the distance from the origin to the atom at position ($i, j, k$) is \n",
    "\n",
    "\\begin{align}\n",
    "\\sqrt{ (ia)^{2}+(ja)^{2}+(ka)^{2} } = a \\sqrt{i^{2}+j^{2}+k^{2}},\n",
    "\\end{align}\n",
    "\n",
    "and the potential at the origin created by an atom is\n",
    "\n",
    "\\begin{align}\n",
    "V(i,j,k) = \\pm \\frac{e}{4\\pi\\epsilon_{0}a\\sqrt{i^{2}+j^{2}+k^{2}}},\n",
    "\\end{align}\n",
    "\n",
    "the sign of the expression depending on whether $i + j + k$ is even or odd. The total potential felt by the sodium atom is then the sum of this quantity over all other atoms. We are assuming a cubic box around the sodium at the origin, with $L$ atoms in all directions. Then we get\n",
    "\n",
    "\\begin{align}\n",
    "V_{\\rm{total}} = \\sum_{i,j,k = -L}^{L} V(i,j,k) = \\frac{e}{4\\pi\\epsilon_{0}a}M,\n",
    "\\end{align}\n",
    "\n",
    "where $M$ is the Madelung constant, well approximately the constant. The Madelung constant is the value of $M$ when $L \\rightarrow \\infty$.\n",
    "\n",
    "Okay, if we substitute the potential given into the middle of the last equation, we end up getting something like\n",
    "\n",
    "\\begin{align}\n",
    "M = \\sum_{i,j,k = -L}^{L} \\frac{(-1)^{i+j+k}}{\\sqrt{i^{2}+j^{2}+k^{2}}}\n",
    "\\end{align}\n"
   ]
  },
  {
   "cell_type": "code",
   "execution_count": 51,
   "id": "2d677465",
   "metadata": {},
   "outputs": [
    {
     "name": "stdout",
     "output_type": "stream",
     "text": [
      "The Madelung constant of table salt is: 1.7418\n"
     ]
    }
   ],
   "source": [
    "import numpy as np\n",
    "\n",
    "L = 100\n",
    "M = 0\n",
    "for i in range(-L,L+1):\n",
    "    for j in range(-L,L+1):\n",
    "        for k in range(-L,L+1):\n",
    "            if (i==j==k==0):\n",
    "                continue\n",
    "                \n",
    "            M = M + (-1)**(i+j+k)/np.sqrt(i**2 + j**2 + k**2)\n",
    "                \n",
    "print(\"The Madelung constant of table salt is:\", abs(round(M,4)))\n",
    "            "
   ]
  },
  {
   "cell_type": "markdown",
   "id": "bcaf3381",
   "metadata": {},
   "source": [
    "**Exercise 2.10: The Semi-Empirical Mass Formula**\n",
    "\n",
    "In nuclear physics, the semi-empirical mass formula is a formula for calculating the approximate nuclear binding energy $B$ of an atomic nucleus with atomic number $Z$ and mass number $A$:\n",
    "\n",
    "\\begin{align}\n",
    "B = a_{1}A - a_{2}A^{2/3}-a_{3}\\frac{Z^{2}}{A^{1/3}}-a_{4}\\frac{(A-2Z)^{2}}{A}+\\frac{a_{5}}{A^{1/2}},\n",
    "\\end{align}\n",
    "\n",
    "the coefficients are in units of $MeV$: $a_{1} = 15.8$, $a_{2} = 18.3$, $a_{3} = 0.714$, $a_{4} = 23.2$, and\n",
    "\n",
    "\\begin{align}\n",
    "a_{5} =  \\begin{cases} \n",
    "      0 & \\rm{if\\ A\\ is\\ odd} \\\\\n",
    "      12.0 & \\rm{if\\ A\\ and\\ Z\\ are\\ both\\ even} \\\\\n",
    "      -12.0 & \\rm{if\\ A\\ is\\ even\\ and\\ Z\\ is\\ odd}\n",
    "   \\end{cases}\n",
    "\\end{align}\n",
    "\n",
    "In a later project, we will explore this mass formula again but this time we will actually solve for the coefficients by reading nulcear data from file. Stay tuned."
   ]
  },
  {
   "cell_type": "code",
   "execution_count": 177,
   "id": "0644629f",
   "metadata": {},
   "outputs": [
    {
     "name": "stdout",
     "output_type": "stream",
     "text": [
      "The binding energy of an atomic nucleus with mass number A=58 and atomic number Z=28 is: 497.56202 MeV\n",
      "The binding energy per nucleon of an atomic nucleus with mass number A=58 and atomic number Z=28 is: 8.57866 MeV\n"
     ]
    }
   ],
   "source": [
    "import numpy as np\n",
    "\n",
    "a1 = 15.8\n",
    "a2 = 18.3\n",
    "a3 = 0.714\n",
    "a4 = 23.2\n",
    "\n",
    "def mainProg():\n",
    "    \n",
    "    \n",
    "    A = 58\n",
    "    Z = 28\n",
    "    ###############\n",
    "    a5 = a5coef(A,Z)\n",
    "    ###############\n",
    "    \n",
    "    bindE = BE(A,Z,a5)\n",
    "    BperA = bindE/A \n",
    "    \n",
    " \n",
    "    print(f\"The binding energy of an atomic nucleus with mass number A={A} \" \n",
    "          f\"and atomic number Z={Z} is: {round(bindE,5)} MeV\")\n",
    "    \n",
    "    print(f\"The binding energy per nucleon of an atomic nucleus with mass number A={A} \" \n",
    "          f\"and atomic number Z={Z} is: {round(BperA,5)} MeV\")\n",
    "    \n",
    "    \n",
    "def a5coef(A,Z):\n",
    "    if (A%2 != 0):\n",
    "        return 0\n",
    "    elif ( (A%2==0) and (Z%2==0) ):\n",
    "        return 12.0\n",
    "    elif ( (A%2==0) and (Z%2 !=0) ):\n",
    "        return -12.0\n",
    "    \n",
    "    \n",
    "def BE(A,Z,a5):\n",
    "    \n",
    "    B = a1*A - a2*(A**(2/3)) - a3*(Z**2)/(A**(1/3)) - a4*(A-2*Z)**2/(A) + a5/(A**(1/2))\n",
    "\n",
    "    return B\n",
    "    \n",
    "    \n",
    "    \n",
    "if __name__ == '__main__':\n",
    "    mainProg()"
   ]
  },
  {
   "cell_type": "markdown",
   "id": "b88b7475",
   "metadata": {},
   "source": [
    "Part (c) asks you to take input of a single value of $Z$, and then go through all values of $A$ from $A = Z$ to $A = 3Z$, to find the one that has the largest binding energy per nucleon. This is the most stable nucleus with the given atomic number. Okay, cool. You can do this two ways using, this will be demonstrated below."
   ]
  },
  {
   "cell_type": "code",
   "execution_count": 204,
   "id": "27cb3916",
   "metadata": {},
   "outputs": [
    {
     "name": "stdout",
     "output_type": "stream",
     "text": [
      "The most stable nucleus with atomic number Z = 28 is A = 63\n",
      "The max binding energy per nucleon is 8.705 Mev. This happens at Z = 28 \n"
     ]
    }
   ],
   "source": [
    "import numpy as np\n",
    "\n",
    "def stablenuc(Z):\n",
    "\n",
    "    A = np.arange(Z,3*Z + 1,1)\n",
    "    a5 = np.empty(len(A))\n",
    "\n",
    "    for a in A:\n",
    "\n",
    "        a5 = a5coef(a,Z)\n",
    "\n",
    "    B = BE(A,Z,a5)\n",
    "\n",
    "    BperA = (B/A)\n",
    "\n",
    "    i = np.where(BperA == max(BperA))\n",
    "    \n",
    "    return ( A[i],max(BperA),A)\n",
    "\n",
    "Z = 28\n",
    "\n",
    "znum = stablenuc(Z)\n",
    "\n",
    "\n",
    "\n",
    "print(f\"The most stable nucleus with atomic number Z = {Z} is A = {str(znum[0])[1:-1]}\")\n",
    "\n",
    "# now we run through the Z's\n",
    "\n",
    "    #Z = np.arange(1,101,1)\n",
    "\n",
    "Z = np.arange(1,101,1)      \n",
    "    \n",
    "be = np.empty(len(Z))\n",
    "a = np.empty(len(Z))\n",
    "\n",
    "k1 = []\n",
    "k2 = []\n",
    "\n",
    "for z in Z:   \n",
    "\n",
    "    val = stable(z)\n",
    "    a = val[0]\n",
    "    be = val[1]\n",
    "    \n",
    "    k1.append(list(val[0]))\n",
    "    k2.append(val[1])\n",
    "        \n",
    "    \n",
    "\n",
    "\n",
    "\n",
    "print(f\"The max binding energy per nucleon is { round(max(k2),3) } Mev. \"\n",
    "      f\"This happens at Z = {Z[k2.index(max(k2))]} \")\n",
    "\n",
    "\n"
   ]
  },
  {
   "cell_type": "markdown",
   "id": "d27d77ae",
   "metadata": {},
   "source": [
    "I would not have found out about the \"max index\" method without Sasha Bakker. Thank you for the the insight, and to people looking at this please look at her github! It's awesome."
   ]
  },
  {
   "cell_type": "code",
   "execution_count": 203,
   "id": "69326e2f",
   "metadata": {},
   "outputs": [
    {
     "name": "stdout",
     "output_type": "stream",
     "text": [
      "The max binding energy per nucleon is 8.705 Mev. This happens at Z = 28 \n"
     ]
    }
   ],
   "source": [
    "import numpy as np\n",
    "\n",
    "def stablenuc(Z):\n",
    "    A = np.arange(Z,3*Z+1,1)\n",
    "    a5 = []\n",
    "    \n",
    "    for a in A:\n",
    "        a5.append(a5coef(z,Z))\n",
    "    B = BE(A,Z,a5)\n",
    "    BA = list(B/A)\n",
    "    maxBA = max(BA)\n",
    "    i = BA.index(max(BA))\n",
    "    \n",
    "    return (A[i],maxBA)\n",
    "\n",
    "Z = 28\n",
    "\n",
    "Z = np.arange(1,101,1)\n",
    "\n",
    "e = []\n",
    "a = []\n",
    "\n",
    "for z in Z:\n",
    "    x = stablenuc(z)\n",
    "    a.append(x[0])\n",
    "    e.append(x[1])\n",
    "    \n",
    "    \n",
    "print(f\"The max binding energy per nucleon is { round(max(e),3) } Mev. \"\n",
    "      f\"This happens at Z = {Z[e.index(max(e))] } \")\n"
   ]
  },
  {
   "cell_type": "markdown",
   "id": "b2cbfbd7",
   "metadata": {},
   "source": [
    "**Exercise 2.11: Binomial coefficients**\n",
    "\n",
    "The binomial coefficient ${n\\choose k}$ is an integer equal to \n",
    "\n",
    "\\begin{align}\n",
    "\\begin{split}\n",
    "{n\\choose k } &= \\frac{n!}{k!(n-k)!}\n",
    "\\\\\n",
    "              & = \\frac{n\\ x\\ (n-1)\\ x\\ (n-2)\\ x\\ ... x\\ (n-k+1)}{1\\ x\\ 2\\ x\\ ...\\ x\\ k}\n",
    "\\end{split}\n",
    "\\end{align}\n",
    "\n",
    "where $k \\geq 1$ or ${n\\choose 0} = 1$ when $k=0$."
   ]
  },
  {
   "cell_type": "code",
   "execution_count": 214,
   "id": "376c5df2",
   "metadata": {},
   "outputs": [
    {
     "name": "stdout",
     "output_type": "stream",
     "text": [
      "The first 12 rows of Pascal's Triangle is: \n",
      "\n",
      "1\n",
      "1, 1\n",
      "1, 2, 1\n",
      "1, 3, 3, 1\n",
      "1, 4, 6, 4, 1\n",
      "1, 5, 10, 10, 5, 1\n",
      "1, 6, 15, 20, 15, 6, 1\n",
      "1, 7, 21, 35, 35, 21, 7, 1\n",
      "1, 8, 28, 56, 70, 56, 28, 8, 1\n",
      "1, 9, 36, 84, 126, 126, 84, 36, 9, 1\n",
      "1, 10, 45, 120, 210, 252, 210, 120, 45, 10, 1\n",
      "1, 11, 55, 165, 330, 462, 462, 330, 165, 55, 11, 1\n",
      "1, 12, 66, 220, 495, 792, 924, 792, 495, 220, 66, 12, 1\n"
     ]
    }
   ],
   "source": [
    "import numpy as np\n",
    "\n",
    "def mainprog():\n",
    "    \n",
    "    N = 12 \n",
    "\n",
    "    print(f\"The first {N} rows of Pascal's Triangle is: \\n\")\n",
    "    Pascal(N)\n",
    "    \n",
    "\n",
    "def factorial(n):\n",
    "    f = 1.0\n",
    "    for k in range(1,n+1):\n",
    "        f = f*k\n",
    "        \n",
    "    return f\n",
    "    \n",
    "\n",
    "def binomial(n,k):\n",
    "    k1 = factorial(n)\n",
    "    k2 = factorial(k)\n",
    "    k3 = factorial(n-k)\n",
    "    \n",
    "    ans = k1/(k2*k3)\n",
    "    \n",
    "    return ans\n",
    "\n",
    "def Pascal(N):\n",
    "    \n",
    "    for n in range(0,N+1):\n",
    "        r = n+1\n",
    "        rows = []\n",
    "        for k in range(r):\n",
    "            rows.append(int(binomial(n,k)))\n",
    "        print(str(rows)[1:-1])\n",
    "        \n",
    "    \n",
    "if __name__=='__main__':\n",
    "    mainprog()\n",
    "    "
   ]
  },
  {
   "cell_type": "markdown",
   "id": "6c90ef62",
   "metadata": {},
   "source": [
    "Next up we deal will counting. The probability of an unbiased coin, tossed n times, will come up heads $k$ times is ${n\\choose k}/2^{n}$. Write a program to calculate (a) the total probability that a coin tossed 100 times comes up heads exactly 60 times, and (b) the probability that it comes up heads 60 or more times. The way to calculate part (b) is a common question in probability, it is the question of \"at least x.\"\n",
    "\n",
    "\\begin{align}\n",
    "P(\\rm{at\\ least\\ x}) = 1 - \\sum_{n = 0}^{n-1} P(n). \n",
    "\\end{align}\n",
    "\n",
    "Hence the probability of at least 60 heads or more is: \n",
    "\n",
    "\\begin{align}\n",
    "P(\\rm{at\\ least\\ 60}) = 1 - \\left[P(0)+P(1)+...+P(60) \\right]\n",
    "\\end{align}"
   ]
  },
  {
   "cell_type": "code",
   "execution_count": 225,
   "id": "480042d9",
   "metadata": {},
   "outputs": [
    {
     "name": "stdout",
     "output_type": "stream",
     "text": [
      "The probability that a coin tossed 100 times that comes up heads exactly 60 times is P(h) = 0.010844\n",
      "The probability that a coin tossed 100 times that comes up heads 60 times or more is P(x >= 60 heads) = 0.028444\n"
     ]
    }
   ],
   "source": [
    "def coinToss(n,k):\n",
    "    prob = binomial(n,k)/(2**n)\n",
    "    \n",
    "    return prob\n",
    "\n",
    "n = 100\n",
    "k = 60\n",
    "\n",
    "print(f\"The probability that a coin tossed {n} times that comes up heads exactly {k} times is \"\n",
    "      f\"P(h) = {round(coinToss(n,k),6)}\")\n",
    "\n",
    "\n",
    "#calculating probability of not getting a head on the flip\n",
    "\n",
    "q = 0\n",
    "\n",
    "for j in range(0,k):\n",
    "    q = q + coinToss(n,j)\n",
    "    \n",
    "p = 1 - q\n",
    "\n",
    "print(f\"The probability that a coin tossed {n} times that comes up heads {k} times or more is \"\n",
    "      f\"P(x >= 60 heads) = {round(p,6)}\")"
   ]
  },
  {
   "cell_type": "markdown",
   "id": "492a3deb",
   "metadata": {},
   "source": [
    "**Exercise 2.12: Prime numbers**\n",
    "\n",
    "Develop a faster program for prime numbers by making use of the following:\n",
    "\n",
    "(a) A number $n$ is prime if it has no prime factors less than n. Hence we only need to check if it is divisible by other primes.\n",
    "\n",
    "(b) If a number $n$ is non-prime, having a factor $r$, then $n = rs$, where $s$ is also a factor. \n",
    "If $r \\geq \\sqrt{n}$ then $n = rs \\geq \\sqrt{ns}$, which implies that $s \\leq \\sqrt{n}$. In other words, any non-prime must have factors, and hence also prime factors, less than or equal to $\\sqrt{n}$. Therefore to determine if a number is prime, we only have to check its prime factors up to and including $\\sqrt{n}$, if there is NONE then the number is prime.\n",
    "\n",
    "(c) If we find even a single prime factor less than $\\sqrt{n}$ then we know that the number is non-prime, and hence there is no need to check any further, we can abandon this number and move on to something else.\n",
    "\n"
   ]
  },
  {
   "cell_type": "code",
   "execution_count": 24,
   "id": "ffb51eef",
   "metadata": {},
   "outputs": [
    {
     "name": "stdout",
     "output_type": "stream",
     "text": [
      "[2, 3, 5, 7, 11, 13, 17, 19, 23, 29, 31, 37, 41, 43, 47, 53, 59, 61, 67, 71, 73, 79, 83, 89, 97, 101, 103, 107, 109, 113, 127, 131, 137, 139, 149, 151, 157, 163, 167, 173, 179, 181, 191, 193, 197, 199, 211, 223, 227, 229, 233, 239, 241, 251, 257, 263, 269, 271, 277, 281, 283, 293, 307, 311, 313, 317, 331, 337, 347, 349, 353, 359, 367, 373, 379, 383, 389, 397, 401, 409, 419, 421, 431, 433, 439, 443, 449, 457, 461, 463, 467, 479, 487, 491, 499, 503, 509, 521, 523, 541, 547, 557, 563, 569, 571, 577, 587, 593, 599, 601, 607, 613, 617, 619, 631, 641, 643, 647, 653, 659, 661, 673, 677, 683, 691, 701, 709, 719, 727, 733, 739, 743, 751, 757, 761, 769, 773, 787, 797, 809, 811, 821, 823, 827, 829, 839, 853, 857, 859, 863, 877, 881, 883, 887, 907, 911, 919, 929, 937, 941, 947, 953, 967, 971, 977, 983, 991, 997]\n"
     ]
    }
   ],
   "source": [
    "import numpy as np\n",
    "\n",
    "def factors(N):\n",
    "    \n",
    "    primes = [2]\n",
    "    it = 3 \n",
    "    \n",
    "    while it <= N:\n",
    "        for prime in primes:\n",
    "            if (it % prime == 0):\n",
    "                break \n",
    "            elif (prime >= np.sqrt(it)):\n",
    "                primes.append(it)\n",
    "                break\n",
    "        it = it+1\n",
    "    \n",
    "    return primes  \n",
    "\n",
    "\n",
    "n = 1000\n",
    "print(factors(n))"
   ]
  },
  {
   "cell_type": "markdown",
   "id": "4da48fbc",
   "metadata": {},
   "source": [
    "### **Aside:**\n",
    "\n",
    "An interesting thing about prime numbers is they show spirals when you plot them. Lets see if we can show this."
   ]
  },
  {
   "cell_type": "code",
   "execution_count": 3,
   "id": "dae33aa1",
   "metadata": {},
   "outputs": [
    {
     "data": {
      "image/png": "[encoded data removed]",
      "text/plain": [
       "<Figure size 720x720 with 1 Axes>"
      ]
     },
     "metadata": {},
     "output_type": "display_data"
    }
   ],
   "source": [
    "import numpy as np\n",
    "import matplotlib.pyplot as plt\n",
    "\n",
    "def mainprog():\n",
    "    \n",
    "    \n",
    "    N = 100000\n",
    "    \n",
    "    primes = factors(N)\n",
    "    \n",
    "    x,y = coordinates(primes)\n",
    "    \n",
    "    fig = plt.figure(figsize=(10,10))\n",
    "    plt.axis(\"off\")\n",
    "    plt.style.use('dark_background')\n",
    "    plt.scatter(x,y,s=0.15)\n",
    "    \n",
    "    plt.show()\n",
    "\n",
    "        \n",
    "        \n",
    "        \n",
    "def factors(N):\n",
    "    \n",
    "    primes = [2]\n",
    "    it = 3 \n",
    "    \n",
    "    while it <= N:\n",
    "        for prime in primes:\n",
    "            if (it % prime == 0):\n",
    "                break \n",
    "            elif (prime > np.sqrt(it)):\n",
    "                primes.append(it)\n",
    "                break\n",
    "        it = it+1\n",
    "    \n",
    "    return primes    \n",
    "    \n",
    "    \n",
    "def coordinates(num):\n",
    "    \n",
    "    x = num*np.cos(num)\n",
    "    y = num*np.sin(num)\n",
    "    \n",
    "    return (x,y)\n",
    "\n",
    "\n",
    "if __name__==\"__main__\":\n",
    "    mainprog()\n",
    "\n",
    "\n",
    "\n"
   ]
  },
  {
   "cell_type": "markdown",
   "id": "a2d688f2",
   "metadata": {},
   "source": [
    "**Aside over**\n",
    "\n",
    "Is there an underlying mathematical structure to this pattern? How can primes help us understand other branches of science? What does it all mean? Heaps of research are being done to study primes.\n",
    "\n",
    "Rather than going deeper into the analysis, let us mearly ponder at its beauty for now. Ain't it cool?"
   ]
  },
  {
   "cell_type": "markdown",
   "id": "ece0399c",
   "metadata": {},
   "source": [
    "**Exercise 2.13: Recursion**\n",
    "\n",
    "Write recursion code that uses Catalan numbers and find the GCD"
   ]
  },
  {
   "cell_type": "code",
   "execution_count": 7,
   "id": "480c1c12",
   "metadata": {},
   "outputs": [
    {
     "name": "stdout",
     "output_type": "stream",
     "text": [
      "the 100th Catalan number is 8.965199470901317e+56\n",
      "the gcd between 108 and 192 is 12\n"
     ]
    }
   ],
   "source": [
    "import numpy as np\n",
    "\n",
    "def catalan(n):\n",
    "    if (n == 0):\n",
    "        #ans = 1\n",
    "        \n",
    "        return 1\n",
    "    else:\n",
    "        #ans = (4*n - 2)/(n+2) * catalan(n-1)\n",
    "        \n",
    "        return ((4*n - 2)/(n+1))*catalan(n-1)\n",
    "      \n",
    "\n",
    "def gcd(m,n):\n",
    "    if (n == 0):\n",
    "        return m\n",
    "    else:\n",
    "        return gcd(n,m%n)\n",
    "        \n",
    "        \n",
    "n = 100\n",
    "\n",
    "print(f\"the {n}th Catalan number is {catalan(n)}\")\n",
    "\n",
    "\n",
    "m = 108\n",
    "n = 192\n",
    "\n",
    "print(f\"the gcd between {m} and {n} is {gcd(m,n)}\")\n",
    "\n",
    "\n",
    "    "
   ]
  }
 ],
 "metadata": {
  "kernelspec": {
   "display_name": "Python 3",
   "language": "python",
   "name": "python3"
  },
  "language_info": {
   "codemirror_mode": {
    "name": "ipython",
    "version": 3
   },
   "file_extension": ".py",
   "mimetype": "text/x-python",
   "name": "python",
   "nbconvert_exporter": "python",
   "pygments_lexer": "ipython3",
   "version": "3.8.8"
  }
 },
 "nbformat": 4,
 "nbformat_minor": 5
}
